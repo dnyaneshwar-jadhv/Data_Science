{
 "cells": [
  {
   "cell_type": "code",
   "execution_count": 36,
   "id": "849e6c9e-3e00-4d42-aa7b-1243919c4844",
   "metadata": {},
   "outputs": [
    {
     "name": "stdout",
     "output_type": "stream",
     "text": [
      "mean: 1.2386666666666666\n",
      "std: 0.18661427836285438\n",
      "t_value:  2.98\n",
      "margin_of_error: 0.14\n",
      "confidence_interval: (1.095231668626123, 1.3821016647072102)\n"
     ]
    }
   ],
   "source": [
    "import numpy as np\n",
    "#from scipy.stats.norm import interval\n",
    "from scipy import stats\n",
    "\n",
    "\n",
    "durability_data = np.array([1.13, 1.55, 1.43, 0.92, 1.25, 1.36, 1.32, 0.85, 1.07, 1.48, 1.20, 1.33, 1.18, 1.22, 1.29])\n",
    "#we use t- distribution sample test because the length of data is less than 30\n",
    "\n",
    "n = len(durability_data)\n",
    "mean = durability_data.mean()\n",
    "std= durability_data.std()\n",
    "print(\"mean:\", mean)\n",
    "print(\"std:\", std)\n",
    "\n",
    "alpha = 0.01\n",
    "df = n - 1\n",
    "t_value = stats.t.ppf(1 - alpha / 2, df)\n",
    "print(\"t_value: \",np.round(t_value, 2))\n",
    "margin_of_error = t_value*(std / np.sqrt(n))\n",
    "print(\"margin_of_error:\",np.round(margin_of_error, 2))\n",
    "\n",
    "confidence_interval = (mean - margin_of_error, mean + margin_of_error)\n",
    "print(\"confidence_interval:\", confidence_interval)"
   ]
  },
  {
   "cell_type": "code",
   "execution_count": 41,
   "id": "98d6484a-7afe-49c1-9b21-068984b442c6",
   "metadata": {},
   "outputs": [
    {
     "name": "stdout",
     "output_type": "stream",
     "text": [
      "[1.11 1.37]\n"
     ]
    }
   ],
   "source": [
    "population_std = 0.2\n",
    "std= population_std/ np.sqrt(n)\n",
    "\n",
    "\n",
    "interval = stats.norm.interval(0.99,mean,std)\n",
    "print(np.round(interval, 2))"
   ]
  },
  {
   "cell_type": "code",
   "execution_count": null,
   "id": "9a587203-c2be-435b-a642-92ff7eacb012",
   "metadata": {},
   "outputs": [],
   "source": []
  }
 ],
 "metadata": {
  "kernelspec": {
   "display_name": "Python 3 (ipykernel)",
   "language": "python",
   "name": "python3"
  },
  "language_info": {
   "codemirror_mode": {
    "name": "ipython",
    "version": 3
   },
   "file_extension": ".py",
   "mimetype": "text/x-python",
   "name": "python",
   "nbconvert_exporter": "python",
   "pygments_lexer": "ipython3",
   "version": "3.12.7"
  }
 },
 "nbformat": 4,
 "nbformat_minor": 5
}
