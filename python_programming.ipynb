{
 "cells": [
  {
   "cell_type": "code",
   "execution_count": 5,
   "id": "6f70ae38-d16d-4cd2-9bc2-062ab60eafb4",
   "metadata": {},
   "outputs": [
    {
     "name": "stdout",
     "output_type": "stream",
     "text": [
      "[2, 3, 5, 7, 11, 13, 17, 19, 23, 29, 31, 37, 41, 43, 47, 53, 59, 61, 67, 71, 73, 79, 83, 89, 97]\n"
     ]
    }
   ],
   "source": [
    "#1.Prime number\n",
    "\n",
    "\n",
    "def prime(number):\n",
    "    for k in  range(2,number):\n",
    "        if number % k == 0:\n",
    "            return False\n",
    "    return True\n",
    "        \n",
    "prime_number = []\n",
    "\n",
    "for number in range (2, 100):\n",
    "    if prime(number):\n",
    "        prime_number.append(number)\n",
    "        \n",
    "print(prime_number)"
   ]
  },
  {
   "cell_type": "code",
   "execution_count": 13,
   "id": "01e9082a-083e-4c15-ad7c-e63ef18e2340",
   "metadata": {},
   "outputs": [
    {
     "name": "stdout",
     "output_type": "stream",
     "text": [
      "product of  8  and  20  is:  160\n"
     ]
    }
   ],
   "source": [
    "#2.product of random numbers\n",
    "import random\n",
    "\n",
    "def product_of_numbers(num1,num2):\n",
    "    return num1*num2\n",
    "\n",
    "num1 = random.randint(1, 100)\n",
    "num2 = random.randint(1, 100)\n",
    "print(\"product of \", num1,\" and \", num2, \" is: \", product_of_numbers(num1,num2))"
   ]
  },
  {
   "cell_type": "code",
   "execution_count": 20,
   "id": "75566130-8071-492c-9e8b-68e767f1dc2f",
   "metadata": {},
   "outputs": [
    {
     "name": "stdout",
     "output_type": "stream",
     "text": [
      "the square of even number 100 is 10000\n",
      "the square of even number 102 is 10404\n",
      "the square of even number 104 is 10816\n",
      "the square of even number 106 is 11236\n",
      "the square of even number 108 is 11664\n",
      "the square of even number 110 is 12100\n",
      "the square of even number 112 is 12544\n",
      "the square of even number 114 is 12996\n",
      "the square of even number 116 is 13456\n",
      "the square of even number 118 is 13924\n",
      "the square of even number 120 is 14400\n",
      "the square of even number 122 is 14884\n",
      "the square of even number 124 is 15376\n",
      "the square of even number 126 is 15876\n",
      "the square of even number 128 is 16384\n",
      "the square of even number 130 is 16900\n",
      "the square of even number 132 is 17424\n",
      "the square of even number 134 is 17956\n",
      "the square of even number 136 is 18496\n",
      "the square of even number 138 is 19044\n",
      "the square of even number 140 is 19600\n",
      "the square of even number 142 is 20164\n",
      "the square of even number 144 is 20736\n",
      "the square of even number 146 is 21316\n",
      "the square of even number 148 is 21904\n",
      "the square of even number 150 is 22500\n",
      "the square of even number 152 is 23104\n",
      "the square of even number 154 is 23716\n",
      "the square of even number 156 is 24336\n",
      "the square of even number 158 is 24964\n",
      "the square of even number 160 is 25600\n",
      "the square of even number 162 is 26244\n",
      "the square of even number 164 is 26896\n",
      "the square of even number 166 is 27556\n",
      "the square of even number 168 is 28224\n",
      "the square of even number 170 is 28900\n",
      "the square of even number 172 is 29584\n",
      "the square of even number 174 is 30276\n",
      "the square of even number 176 is 30976\n",
      "the square of even number 178 is 31684\n",
      "the square of even number 180 is 32400\n",
      "the square of even number 182 is 33124\n",
      "the square of even number 184 is 33856\n",
      "the square of even number 186 is 34596\n",
      "the square of even number 188 is 35344\n",
      "the square of even number 190 is 36100\n",
      "the square of even number 192 is 36864\n",
      "the square of even number 194 is 37636\n",
      "the square of even number 196 is 38416\n",
      "the square of even number 198 is 39204\n"
     ]
    }
   ],
   "source": [
    "#product of even/ odd numbers\n",
    "def even_numbers(num):\n",
    "    if num % 2 == 0:\n",
    "        return True\n",
    "\n",
    "def square_of_numbers(num):\n",
    "    return num*num\n",
    "    \n",
    "for num in range (100, 200):\n",
    "    if even_numbers(num):\n",
    "        print(\"the square of even number\", num,\"is\", square_of_numbers(num))"
   ]
  },
  {
   "cell_type": "code",
   "execution_count": 4,
   "id": "a4bbee63-087e-46d5-84a1-1bf01e37a49a",
   "metadata": {},
   "outputs": [
    {
     "name": "stdout",
     "output_type": "stream",
     "text": [
      "{'this': 2, 'is': 1, 'a': 1, 'sample': 1, 'text': 1, 'text.': 1, 'will': 1, 'be': 1, 'used': 1, 'to': 1, 'demonstrate': 1, 'the': 1, 'word': 1, 'counter.': 1}\n"
     ]
    }
   ],
   "source": [
    "#4. count the word in sentence\n",
    "\n",
    "def count_words(sentence):\n",
    "    words = sentence.lower()\n",
    "    final_word = words.split()\n",
    "    \n",
    "    word_count = {}\n",
    "    \n",
    "    for word in final_word:\n",
    "        if word in word_count:\n",
    "            word_count[word] += 1\n",
    "        else:\n",
    "            word_count[word] = 1\n",
    "\n",
    "    return word_count\n",
    "print(count_words(\"This is a sample text This text. will be used to demonstrate the word counter.\"))"
   ]
  },
  {
   "cell_type": "code",
   "execution_count": 10,
   "id": "03ed12bc-986f-4a63-b887-c754ea547a1d",
   "metadata": {},
   "outputs": [
    {
     "name": "stdout",
     "output_type": "stream",
     "text": [
      "your input is palindrome\n"
     ]
    }
   ],
   "source": [
    "#5. palindrome\n",
    "\n",
    "def palindrome(word):\n",
    "    word = word.replace(\" \", \"\").lower()\n",
    "    \n",
    "    return word == word[::-1]\n",
    "\n",
    "\n",
    "inputs = \"m ada   m\"\n",
    "\n",
    "if palindrome(inputs):\n",
    "    print(\"your input is palindrome\")\n",
    "else:\n",
    "    print(\"your input in not palindrome\")"
   ]
  },
  {
   "cell_type": "code",
   "execution_count": null,
   "id": "c516de5e-693a-427e-a037-d80ea0a94751",
   "metadata": {},
   "outputs": [],
   "source": []
  }
 ],
 "metadata": {
  "kernelspec": {
   "display_name": "Python 3 (ipykernel)",
   "language": "python",
   "name": "python3"
  },
  "language_info": {
   "codemirror_mode": {
    "name": "ipython",
    "version": 3
   },
   "file_extension": ".py",
   "mimetype": "text/x-python",
   "name": "python",
   "nbconvert_exporter": "python",
   "pygments_lexer": "ipython3",
   "version": "3.12.7"
  }
 },
 "nbformat": 4,
 "nbformat_minor": 5
}
