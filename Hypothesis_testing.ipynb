{
 "cells": [
  {
   "cell_type": "code",
   "execution_count": 13,
   "id": "55c97254-2574-4788-a5b0-d163710a12cf",
   "metadata": {},
   "outputs": [
    {
     "name": "stdout",
     "output_type": "stream",
     "text": [
      "the Z calculated value: -38.0\n"
     ]
    }
   ],
   "source": [
    "''' as per given inputs, the no. sample is 25 and its less than 30 so i am using one sample T-test \n",
    "\n",
    "cost = 1000 + 5 * X\n",
    "'''\n",
    "import math\n",
    "\n",
    "#the weekly cost is 600\n",
    "X = 600\n",
    "\n",
    "W = 1000 + (5 * X)\n",
    "\n",
    "xsample = 3050\n",
    "xthero = W\n",
    "n = 25\n",
    "std = 5 * n\n",
    "\n",
    "nsqrt = math.sqrt(n)\n",
    "\n",
    "#standard error = SE\n",
    "SE = std / nsqrt\n",
    "\n",
    "zcal = (xsample - xthero) / SE\n",
    "\n",
    "print(\"the Z calculated value:\", zcal)"
   ]
  },
  {
   "cell_type": "code",
   "execution_count": 14,
   "id": "dce9d0a9-85d0-4f41-b871-f15b3bb8ba76",
   "metadata": {},
   "outputs": [
    {
     "name": "stdout",
     "output_type": "stream",
     "text": [
      " H1 is rejected and H0 is accepted\n"
     ]
    }
   ],
   "source": [
    "#Critical value\n",
    "import scipy.stats as stats\n",
    "alpha = 0.05\n",
    "z_critical=norm.ppf(1 - alpha)\n",
    "if (zcal>z_critical):\n",
    "    print(\" H0 is rejected and H1 is accepted\")\n",
    "else:\n",
    "    print(\" H1 is rejected and H0 is accepted\")\n"
   ]
  },
  {
   "cell_type": "code",
   "execution_count": 15,
   "id": "244d1663-43d3-4d07-bd08-8784c4c886c8",
   "metadata": {},
   "outputs": [],
   "source": [
    "#Decision:-\n",
    "#the test statistic is lesser than the critical value, so we reject the alternative hypothesis.\n",
    "\n",
    "#Conclusion:- The evidence supports the restaurant owners claim that their operating costs are not higher than expected."
   ]
  }
 ],
 "metadata": {
  "kernelspec": {
   "display_name": "Python 3 (ipykernel)",
   "language": "python",
   "name": "python3"
  },
  "language_info": {
   "codemirror_mode": {
    "name": "ipython",
    "version": 3
   },
   "file_extension": ".py",
   "mimetype": "text/x-python",
   "name": "python",
   "nbconvert_exporter": "python",
   "pygments_lexer": "ipython3",
   "version": "3.12.7"
  }
 },
 "nbformat": 4,
 "nbformat_minor": 5
}
